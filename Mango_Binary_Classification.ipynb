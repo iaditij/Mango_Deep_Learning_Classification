{
  "nbformat": 4,
  "nbformat_minor": 0,
  "metadata": {
    "colab": {
      "name": "Mango_Binary_Classification.ipynb",
      "provenance": [],
      "collapsed_sections": [],
      "machine_shape": "hm"
    },
    "kernelspec": {
      "name": "python3",
      "display_name": "Python 3"
    },
    "accelerator": "GPU"
  },
  "cells": [
    {
      "cell_type": "markdown",
      "metadata": {
        "id": "F0JM-a2QAJKo",
        "colab_type": "text"
      },
      "source": [
        " To run this colab, press the \"Rutime\" button in the menu tab and then press the \"Run all\" button."
      ]
    },
    {
      "cell_type": "markdown",
      "metadata": {
        "id": "HfEDT4VkASBh",
        "colab_type": "text"
      },
      "source": [
        "# Problem Statement: To identify whether the Mangoes are Alphonso or not."
      ]
    },
    {
      "cell_type": "markdown",
      "metadata": {
        "id": "r0WJmcK2ChQs",
        "colab_type": "text"
      },
      "source": [
        "# Transfer learning with a pretrained ConvNet"
      ]
    },
    {
      "cell_type": "markdown",
      "metadata": {
        "id": "Dar9gYb-Cjrc",
        "colab_type": "text"
      },
      "source": [
        "A pre-trained model is a saved network that was previously trained on a large dataset, typically on a large-scale image-classification task. You either use the pretrained model as is or use transfer learning to customize this model to a given task.\n",
        "\n",
        "The intuition behind transfer learning for image classification is that if a model is trained on a large and general enough dataset, this model will effectively serve as a generic model of the visual world. You can then take advantage of these learned feature maps without having to start from scratch by training a large model on a large dataset.\n",
        "\n",
        "\n",
        "\n",
        " The Notebook  workflow :\n",
        " 1. Data Collection: Webscrapping via Google images.\n",
        "\n",
        "2.Examine and understand the data\n",
        "\n",
        "3.Build an input pipeline, in this case using Keras ImageDataGenerator\n",
        "\n",
        "4.Compose the model\n",
        "-Load in the pretrained base model (and pretrained weights)\n",
        "\n",
        "-Stack the classification layers on top\n",
        "\n",
        "5.Train the model\n",
        "\n",
        "6.Evaluate model"
      ]
    },
    {
      "cell_type": "code",
      "metadata": {
        "id": "O7UMdQsun9Jw",
        "colab_type": "code",
        "outputId": "b4ba3aff-c732-4c45-8ede-d6e801c6fe45",
        "colab": {
          "base_uri": "https://localhost:8080/",
          "height": 124
        }
      },
      "source": [
        "from google.colab import drive\n",
        "drive.mount('/content/drive')\n"
      ],
      "execution_count": 0,
      "outputs": [
        {
          "output_type": "stream",
          "text": [
            "Go to this URL in a browser: https://accounts.google.com/o/oauth2/auth?client_id=947318989803-6bn6qk8qdgf4n4g3pfee6491hc0brc4i.apps.googleusercontent.com&redirect_uri=urn%3aietf%3awg%3aoauth%3a2.0%3aoob&response_type=code&scope=email%20https%3a%2f%2fwww.googleapis.com%2fauth%2fdocs.test%20https%3a%2f%2fwww.googleapis.com%2fauth%2fdrive%20https%3a%2f%2fwww.googleapis.com%2fauth%2fdrive.photos.readonly%20https%3a%2f%2fwww.googleapis.com%2fauth%2fpeopleapi.readonly\n",
            "\n",
            "Enter your authorization code:\n",
            "··········\n",
            "Mounted at /content/drive\n"
          ],
          "name": "stdout"
        }
      ]
    },
    {
      "cell_type": "code",
      "metadata": {
        "id": "ngCP00vt60cn",
        "colab_type": "code",
        "colab": {}
      },
      "source": [
        "from __future__ import absolute_import, division, print_function, unicode_literals\n",
        "\n",
        "\n",
        "##!pip install tensorflow-gpu==1.15\n",
        "#!pip install tensorflow-hub>=0.3\n",
        "import tensorflow as tf\n",
        "\n",
        "import os\n",
        "import numpy as np\n",
        "import matplotlib.pyplot as plt"
      ],
      "execution_count": 0,
      "outputs": []
    },
    {
      "cell_type": "code",
      "metadata": {
        "id": "qPpnOIx0mjhB",
        "colab_type": "code",
        "outputId": "c63c92b3-724d-4a7b-d04d-f6b4f6f46e35",
        "colab": {
          "base_uri": "https://localhost:8080/",
          "height": 156
        }
      },
      "source": [
        "tf.__version__\n",
        "!pip install keras==2.3.1"
      ],
      "execution_count": 0,
      "outputs": [
        {
          "output_type": "stream",
          "text": [
            "Requirement already satisfied: keras==2.3.1 in /usr/local/lib/python3.6/dist-packages (2.3.1)\n",
            "Requirement already satisfied: keras-preprocessing>=1.0.5 in /usr/local/lib/python3.6/dist-packages (from keras==2.3.1) (1.1.2)\n",
            "Requirement already satisfied: six>=1.9.0 in /usr/local/lib/python3.6/dist-packages (from keras==2.3.1) (1.12.0)\n",
            "Requirement already satisfied: keras-applications>=1.0.6 in /usr/local/lib/python3.6/dist-packages (from keras==2.3.1) (1.0.8)\n",
            "Requirement already satisfied: pyyaml in /usr/local/lib/python3.6/dist-packages (from keras==2.3.1) (3.13)\n",
            "Requirement already satisfied: numpy>=1.9.1 in /usr/local/lib/python3.6/dist-packages (from keras==2.3.1) (1.18.4)\n",
            "Requirement already satisfied: h5py in /usr/local/lib/python3.6/dist-packages (from keras==2.3.1) (2.10.0)\n",
            "Requirement already satisfied: scipy>=0.14 in /usr/local/lib/python3.6/dist-packages (from keras==2.3.1) (1.4.1)\n"
          ],
          "name": "stdout"
        }
      ]
    },
    {
      "cell_type": "markdown",
      "metadata": {
        "id": "xFyr-P0_ApYj",
        "colab_type": "text"
      },
      "source": [
        "Uplaod the Dataset"
      ]
    },
    {
      "cell_type": "code",
      "metadata": {
        "id": "e7UtR4PjmlTA",
        "colab_type": "code",
        "colab": {}
      },
      "source": [
        "base_dir = \"/content/drive/My Drive/Mango\"\n"
      ],
      "execution_count": 0,
      "outputs": []
    },
    {
      "cell_type": "markdown",
      "metadata": {
        "id": "IIeB-zHRAwiN",
        "colab_type": "text"
      },
      "source": [
        "Use ImageDataGenerator to rescale the images.\n",
        "\n",
        "Create the train generator and specify where the train dataset directory, image size, batch size.\n",
        "\n",
        "Create the validation generator with similar approach as the train generator with the flow_from_directory() method."
      ]
    },
    {
      "cell_type": "code",
      "metadata": {
        "id": "07lSjC1xn1jp",
        "colab_type": "code",
        "outputId": "84e43548-73b9-4d2d-870d-706117e1ec11",
        "colab": {
          "base_uri": "https://localhost:8080/",
          "height": 52
        }
      },
      "source": [
        "IMAGE_SIZE = 224\n",
        "BATCH_SIZE = 32\n",
        "\n",
        "datagen = tf.keras.preprocessing.image.ImageDataGenerator(\n",
        "    rescale=1./255,\n",
        "    shear_range=0.2,\n",
        "    zoom_range=0.2,\n",
        "    horizontal_flip=True,\n",
        "    validation_split=0.2)\n",
        "\n",
        "train_generator = datagen.flow_from_directory(\n",
        "    base_dir,\n",
        "    target_size=(IMAGE_SIZE, IMAGE_SIZE),\n",
        "    batch_size=BATCH_SIZE, \n",
        "    class_mode='categorical',\n",
        "    subset='training')\n",
        "\n",
        "val_generator = datagen.flow_from_directory(\n",
        "    base_dir,\n",
        "    target_size=(IMAGE_SIZE, IMAGE_SIZE),\n",
        "    batch_size=BATCH_SIZE,\n",
        "    class_mode='categorical',    \n",
        "    subset='validation')"
      ],
      "execution_count": 0,
      "outputs": [
        {
          "output_type": "stream",
          "text": [
            "Found 440 images belonging to 2 classes.\n",
            "Found 108 images belonging to 2 classes.\n"
          ],
          "name": "stdout"
        }
      ]
    },
    {
      "cell_type": "markdown",
      "metadata": {
        "id": "c5sTXK0NA1kZ",
        "colab_type": "text"
      },
      "source": [
        "Checking the Shapes of the DataSet"
      ]
    },
    {
      "cell_type": "code",
      "metadata": {
        "id": "-mMGAkUHodq7",
        "colab_type": "code",
        "outputId": "a72ab296-4853-4b16-9788-24cc96493c80",
        "colab": {
          "base_uri": "https://localhost:8080/",
          "height": 35
        }
      },
      "source": [
        "for image_batch, label_batch in train_generator:\n",
        "  break\n",
        "image_batch.shape, label_batch.shape"
      ],
      "execution_count": 0,
      "outputs": [
        {
          "output_type": "execute_result",
          "data": {
            "text/plain": [
              "((32, 224, 224, 3), (32, 2))"
            ]
          },
          "metadata": {
            "tags": []
          },
          "execution_count": 6
        }
      ]
    },
    {
      "cell_type": "markdown",
      "metadata": {
        "id": "Recvzr9DBAsm",
        "colab_type": "text"
      },
      "source": [
        "Save the labels in a file which will be downloaded later."
      ]
    },
    {
      "cell_type": "code",
      "metadata": {
        "id": "a3hCBVelpX2u",
        "colab_type": "code",
        "outputId": "db214f41-31ec-4f61-bfae-4fd76f6da859",
        "colab": {
          "base_uri": "https://localhost:8080/",
          "height": 35
        }
      },
      "source": [
        "print (train_generator.class_indices)\n",
        "\n",
        "labels = '\\n'.join(sorted(train_generator.class_indices.keys()))\n",
        "\n",
        "with open('labels.txt', 'w') as f:\n",
        "  f.write(labels)"
      ],
      "execution_count": 0,
      "outputs": [
        {
          "output_type": "stream",
          "text": [
            "{'Alphonso': 0, 'Non-Alphonso': 1}\n"
          ],
          "name": "stdout"
        }
      ]
    },
    {
      "cell_type": "code",
      "metadata": {
        "id": "KdecLIRnpeCk",
        "colab_type": "code",
        "outputId": "ccb5160e-b4af-46e4-d98b-e6b4495e6fdc",
        "colab": {
          "base_uri": "https://localhost:8080/",
          "height": 52
        }
      },
      "source": [
        "!cat labels.txt"
      ],
      "execution_count": 0,
      "outputs": [
        {
          "output_type": "stream",
          "text": [
            "Alphonso\n",
            "Non-Alphonso"
          ],
          "name": "stdout"
        }
      ]
    },
    {
      "cell_type": "markdown",
      "metadata": {
        "id": "jcZsZKjhBGON",
        "colab_type": "text"
      },
      "source": [
        "Create the base model from the pre-trained convnets\n",
        "Create the base model from the MobileNet V2 model developed at Google, and pre-trained on the ImageNet dataset, a large dataset of 1.4M images and 1000 classes of web images.\n",
        "\n",
        "First, pick which intermediate layer of MobileNet V2 will be used for feature extraction. A common practice is to use the output of the very last layer before the flatten operation, the so-called \"bottleneck layer\". The reasoning here is that the following fully-connected layers will be too specialized to the task the network was trained on, and thus the features learned by these layers won't be very useful for a new task. The bottleneck features, however, retain much generality.\n",
        "\n",
        "Let's instantiate an MobileNet V2 model pre-loaded with weights trained on ImageNet. By specifying the include_top=False argument, we load a network that doesn't include the classification layers at the top, which is ideal for feature extraction."
      ]
    },
    {
      "cell_type": "code",
      "metadata": {
        "id": "rS5Jq9wMsgN0",
        "colab_type": "code",
        "outputId": "c3ede8de-27ad-4945-c2fb-5c1aca5d2ca2",
        "colab": {
          "base_uri": "https://localhost:8080/",
          "height": 72
        }
      },
      "source": [
        "IMG_SHAPE = (IMAGE_SIZE, IMAGE_SIZE, 3)\n",
        "\n",
        "# Create the base model from the pre-trained model MobileNet V2\n",
        "base_model = tf.keras.applications.MobileNetV2(input_shape=IMG_SHAPE,\n",
        "                                              include_top=False, \n",
        "                                              weights='imagenet')"
      ],
      "execution_count": 0,
      "outputs": [
        {
          "output_type": "stream",
          "text": [
            "Downloading data from https://storage.googleapis.com/tensorflow/keras-applications/mobilenet_v2/mobilenet_v2_weights_tf_dim_ordering_tf_kernels_1.0_224_no_top.h5\n",
            "9412608/9406464 [==============================] - 0s 0us/step\n"
          ],
          "name": "stdout"
        }
      ]
    },
    {
      "cell_type": "markdown",
      "metadata": {
        "id": "ypeBX_YIBPoy",
        "colab_type": "text"
      },
      "source": [
        "## Feature extraction\n",
        "You will freeze the convolutional base created from the previous step and use that as a feature extractor, add a classifier on top of it and train the top-level classifier."
      ]
    },
    {
      "cell_type": "code",
      "metadata": {
        "id": "dIffS4GAsm43",
        "colab_type": "code",
        "colab": {}
      },
      "source": [
        "base_model.trainable = False"
      ],
      "execution_count": 0,
      "outputs": []
    },
    {
      "cell_type": "markdown",
      "metadata": {
        "id": "SUV7seIoBSQn",
        "colab_type": "text"
      },
      "source": [
        "## Add a classification head"
      ]
    },
    {
      "cell_type": "code",
      "metadata": {
        "id": "c5DCBLyBsuKE",
        "colab_type": "code",
        "colab": {}
      },
      "source": [
        "model = tf.keras.Sequential([\n",
        "  base_model,\n",
        "  tf.keras.layers.Conv2D(16, 3,padding='same', activation='relu',input_shape=IMG_SHAPE),\n",
        "  tf.keras.layers.MaxPooling2D(),\n",
        "  tf.keras.layers.Dropout(0.2),\n",
        "  tf.keras.layers.Conv2D(32,3,padding='same',activation='relu'),\n",
        "  tf.keras.layers.MaxPooling2D(),\n",
        "  tf.keras.layers.Conv2D(64,3,padding='same',activation='relu'),\n",
        "  tf.keras.layers.GlobalAveragePooling2D(),\n",
        "  tf.keras.layers.Dropout(0.2),\n",
        "  tf.keras.layers.Flatten(),\n",
        "  tf.keras.layers.Dense(512),\n",
        "  tf.keras.layers.Dense(2, activation='softmax')\n",
        "])  "
      ],
      "execution_count": 0,
      "outputs": []
    },
    {
      "cell_type": "markdown",
      "metadata": {
        "id": "TcUlgBoXBWpn",
        "colab_type": "text"
      },
      "source": [
        "## Compile the model\n",
        "You must compile the model before training it. Since there are two classes, use a binary cross-entropy loss."
      ]
    },
    {
      "cell_type": "code",
      "metadata": {
        "id": "MPNOTbA9xvRu",
        "colab_type": "code",
        "colab": {}
      },
      "source": [
        "model.compile(optimizer=tf.keras.optimizers.Adam(), \n",
        "              loss='binary_crossentropy', \n",
        "              metrics=['accuracy'])"
      ],
      "execution_count": 0,
      "outputs": []
    },
    {
      "cell_type": "code",
      "metadata": {
        "id": "rEFGnSScx2SX",
        "colab_type": "code",
        "outputId": "5e618460-fd02-4905-ce13-46d8dcbac81e",
        "colab": {
          "base_uri": "https://localhost:8080/",
          "height": 572
        }
      },
      "source": [
        "model.summary()"
      ],
      "execution_count": 0,
      "outputs": [
        {
          "output_type": "stream",
          "text": [
            "Model: \"sequential\"\n",
            "_________________________________________________________________\n",
            "Layer (type)                 Output Shape              Param #   \n",
            "=================================================================\n",
            "mobilenetv2_1.00_224 (Model) (None, 7, 7, 1280)        2257984   \n",
            "_________________________________________________________________\n",
            "conv2d (Conv2D)              (None, 7, 7, 16)          184336    \n",
            "_________________________________________________________________\n",
            "max_pooling2d (MaxPooling2D) (None, 3, 3, 16)          0         \n",
            "_________________________________________________________________\n",
            "dropout (Dropout)            (None, 3, 3, 16)          0         \n",
            "_________________________________________________________________\n",
            "conv2d_1 (Conv2D)            (None, 3, 3, 32)          4640      \n",
            "_________________________________________________________________\n",
            "max_pooling2d_1 (MaxPooling2 (None, 1, 1, 32)          0         \n",
            "_________________________________________________________________\n",
            "conv2d_2 (Conv2D)            (None, 1, 1, 64)          18496     \n",
            "_________________________________________________________________\n",
            "global_average_pooling2d (Gl (None, 64)                0         \n",
            "_________________________________________________________________\n",
            "dropout_1 (Dropout)          (None, 64)                0         \n",
            "_________________________________________________________________\n",
            "flatten (Flatten)            (None, 64)                0         \n",
            "_________________________________________________________________\n",
            "dense (Dense)                (None, 512)               33280     \n",
            "_________________________________________________________________\n",
            "dense_1 (Dense)              (None, 2)                 1026      \n",
            "=================================================================\n",
            "Total params: 2,499,762\n",
            "Trainable params: 241,778\n",
            "Non-trainable params: 2,257,984\n",
            "_________________________________________________________________\n"
          ],
          "name": "stdout"
        }
      ]
    },
    {
      "cell_type": "code",
      "metadata": {
        "id": "KWcijDYqx5jI",
        "colab_type": "code",
        "outputId": "1bef2a13-74a7-41e8-bfee-85b431b70659",
        "colab": {
          "base_uri": "https://localhost:8080/",
          "height": 35
        }
      },
      "source": [
        "print('Number of trainable variables = {}'.format(len(model.trainable_variables)))"
      ],
      "execution_count": 0,
      "outputs": [
        {
          "output_type": "stream",
          "text": [
            "Number of trainable variables = 10\n"
          ],
          "name": "stdout"
        }
      ]
    },
    {
      "cell_type": "markdown",
      "metadata": {
        "id": "3D-XfwToBkTn",
        "colab_type": "text"
      },
      "source": [
        "## Train the model"
      ]
    },
    {
      "cell_type": "code",
      "metadata": {
        "id": "MduyccI3x8AC",
        "colab_type": "code",
        "colab": {}
      },
      "source": [
        "from PIL import Image, ImageFile\n",
        "ImageFile.LOAD_TRUNCATED_IMAGES = True\n"
      ],
      "execution_count": 0,
      "outputs": []
    },
    {
      "cell_type": "code",
      "metadata": {
        "id": "SquDWr3Gx-jX",
        "colab_type": "code",
        "outputId": "82d8a656-5052-48bf-9245-58dcbb1febec",
        "colab": {
          "base_uri": "https://localhost:8080/",
          "height": 817
        }
      },
      "source": [
        "initial_epochs = 20\n",
        "\n",
        "history = model.fit_generator(train_generator, \n",
        "                    epochs=initial_epochs, \n",
        "                    validation_data=val_generator,\n",
        "                    steps_per_epoch=10,\n",
        "                    validation_steps=64//64)"
      ],
      "execution_count": 0,
      "outputs": [
        {
          "output_type": "stream",
          "text": [
            "WARNING:tensorflow:From <ipython-input-16-b0f6248298de>:7: Model.fit_generator (from tensorflow.python.keras.engine.training) is deprecated and will be removed in a future version.\n",
            "Instructions for updating:\n",
            "Please use Model.fit, which supports generators.\n",
            "Epoch 1/20\n",
            "10/10 [==============================] - 196s 20s/step - loss: 0.6480 - accuracy: 0.5938 - val_loss: 0.5494 - val_accuracy: 0.6875\n",
            "Epoch 2/20\n",
            "10/10 [==============================] - 77s 8s/step - loss: 0.4286 - accuracy: 0.8045 - val_loss: 0.4906 - val_accuracy: 0.8125\n",
            "Epoch 3/20\n",
            "10/10 [==============================] - 17s 2s/step - loss: 0.4559 - accuracy: 0.7917 - val_loss: 0.3141 - val_accuracy: 0.9062\n",
            "Epoch 4/20\n",
            "10/10 [==============================] - ETA: 0s - loss: 0.3274 - accuracy: 0.8622"
          ],
          "name": "stdout"
        },
        {
          "output_type": "stream",
          "text": [
            "/usr/local/lib/python3.6/dist-packages/PIL/Image.py:932: UserWarning: Palette images with Transparency expressed in bytes should be converted to RGBA images\n",
            "  \"Palette images with Transparency expressed in bytes should be \"\n"
          ],
          "name": "stderr"
        },
        {
          "output_type": "stream",
          "text": [
            "\b\b\b\b\b\b\b\b\b\b\b\b\b\b\b\b\b\b\b\b\b\b\b\b\b\b\b\b\b\b\b\b\b\b\b\b\b\b\b\b\b\b\b\b\b\b\b\b\b\b\b\b\b\b\b\b\b\b\b\b\b\b\b\b\b\b\b\b\b\b\b\b\b\b\b\b\b\b\b\b\b\b\r10/10 [==============================] - 9s 882ms/step - loss: 0.3274 - accuracy: 0.8622 - val_loss: 0.2737 - val_accuracy: 0.8750\n",
            "Epoch 5/20\n",
            "10/10 [==============================] - 8s 806ms/step - loss: 0.2572 - accuracy: 0.8910 - val_loss: 0.4034 - val_accuracy: 0.8125\n",
            "Epoch 6/20\n",
            "10/10 [==============================] - 7s 688ms/step - loss: 0.2748 - accuracy: 0.9062 - val_loss: 0.2642 - val_accuracy: 0.9062\n",
            "Epoch 7/20\n",
            "10/10 [==============================] - 7s 691ms/step - loss: 0.2541 - accuracy: 0.9156 - val_loss: 0.4376 - val_accuracy: 0.8125\n",
            "Epoch 8/20\n",
            "10/10 [==============================] - 8s 758ms/step - loss: 0.2921 - accuracy: 0.8844 - val_loss: 0.3494 - val_accuracy: 0.9062\n",
            "Epoch 9/20\n",
            "10/10 [==============================] - 7s 659ms/step - loss: 0.1995 - accuracy: 0.9187 - val_loss: 0.4069 - val_accuracy: 0.8750\n",
            "Epoch 10/20\n",
            "10/10 [==============================] - 7s 673ms/step - loss: 0.1756 - accuracy: 0.9281 - val_loss: 0.1602 - val_accuracy: 0.9062\n",
            "Epoch 11/20\n",
            "10/10 [==============================] - 6s 648ms/step - loss: 0.1065 - accuracy: 0.9359 - val_loss: 0.2577 - val_accuracy: 0.9062\n",
            "Epoch 12/20\n",
            "10/10 [==============================] - 7s 692ms/step - loss: 0.1355 - accuracy: 0.9583 - val_loss: 0.5678 - val_accuracy: 0.8750\n",
            "Epoch 13/20\n",
            "10/10 [==============================] - 7s 728ms/step - loss: 0.1201 - accuracy: 0.9487 - val_loss: 0.5090 - val_accuracy: 0.7500\n",
            "Epoch 14/20\n",
            "10/10 [==============================] - 7s 651ms/step - loss: 0.0966 - accuracy: 0.9647 - val_loss: 0.2276 - val_accuracy: 0.9062\n",
            "Epoch 15/20\n",
            "10/10 [==============================] - 7s 675ms/step - loss: 0.1117 - accuracy: 0.9500 - val_loss: 0.3964 - val_accuracy: 0.8750\n",
            "Epoch 16/20\n",
            "10/10 [==============================] - 7s 690ms/step - loss: 0.1094 - accuracy: 0.9688 - val_loss: 0.2141 - val_accuracy: 0.8750\n",
            "Epoch 17/20\n",
            "10/10 [==============================] - 8s 753ms/step - loss: 0.0876 - accuracy: 0.9656 - val_loss: 0.3038 - val_accuracy: 0.8750\n",
            "Epoch 18/20\n",
            "10/10 [==============================] - 7s 723ms/step - loss: 0.0722 - accuracy: 0.9712 - val_loss: 0.1152 - val_accuracy: 0.9688\n",
            "Epoch 19/20\n",
            "10/10 [==============================] - 7s 688ms/step - loss: 0.0560 - accuracy: 0.9872 - val_loss: 0.3356 - val_accuracy: 0.8438\n",
            "Epoch 20/20\n",
            "10/10 [==============================] - 6s 637ms/step - loss: 0.0522 - accuracy: 0.9875 - val_loss: 0.4304 - val_accuracy: 0.8750\n"
          ],
          "name": "stdout"
        }
      ]
    },
    {
      "cell_type": "markdown",
      "metadata": {
        "id": "9j2AzctiBrSl",
        "colab_type": "text"
      },
      "source": [
        "## Learning curves\n",
        "Let's take a look at the learning curves of the training and validation accuracy/loss when using the MobileNet V2 base model as a fixed feature extractor."
      ]
    },
    {
      "cell_type": "code",
      "metadata": {
        "id": "KdB_0uh5yfsC",
        "colab_type": "code",
        "outputId": "d8bad6c4-6bac-461a-b0a7-a98e42f2e521",
        "colab": {
          "base_uri": "https://localhost:8080/",
          "height": 513
        }
      },
      "source": [
        "acc = history.history['accuracy']\n",
        "val_acc = history.history['val_accuracy']\n",
        "\n",
        "loss = history.history['loss']\n",
        "val_loss = history.history['val_loss']\n",
        "\n",
        "plt.figure(figsize=(8, 8))\n",
        "plt.subplot(2, 1, 1)\n",
        "plt.plot(acc, label='Training Accuracy')\n",
        "plt.plot(val_acc, label='Validation Accuracy')\n",
        "plt.legend(loc='lower right')\n",
        "plt.ylabel('Accuracy')\n",
        "plt.ylim([min(plt.ylim()),1])\n",
        "plt.title('Training and Validation Accuracy')\n",
        "\n",
        "plt.subplot(2, 1, 2)\n",
        "plt.plot(loss, label='Training Loss')\n",
        "plt.plot(val_loss, label='Validation Loss')\n",
        "plt.legend(loc='upper right')\n",
        "plt.ylabel('Cross Entropy')\n",
        "plt.ylim([0,1.0])\n",
        "plt.title('Training and Validation Loss')\n",
        "plt.xlabel('epoch')\n",
        "plt.show()"
      ],
      "execution_count": 0,
      "outputs": [
        {
          "output_type": "display_data",
          "data": {
            "image/png": "[encoded data removed]",
            "text/plain": [
              "<Figure size 576x576 with 2 Axes>"
            ]
          },
          "metadata": {
            "tags": [],
            "needs_background": "light"
          }
        }
      ]
    },
    {
      "cell_type": "markdown",
      "metadata": {
        "id": "DqB2sOLIBxUM",
        "colab_type": "text"
      },
      "source": [
        "# Fine tuning\n",
        "In our feature extraction experiment, you were only training a few layers on top of an MobileNet V2 base model. The weights of the pre-trained network were not updated during training.\n",
        "\n",
        "One way to increase performance even further is to train (or \"fine-tune\") the weights of the top layers of the pre-trained model alongside the training of the classifier you added. The training process will force the weights to be tuned from generic features maps to features associated specifically to our dataset.\n",
        "\n",
        "# Un-freeze the top layers of the model\n",
        "All you need to do is unfreeze the base_model and set the bottom layers be un-trainable. Then, recompile the model (necessary for these changes to take effect), and resume training."
      ]
    },
    {
      "cell_type": "code",
      "metadata": {
        "id": "tWL-Kzphykm5",
        "colab_type": "code",
        "colab": {}
      },
      "source": [
        "base_model.trainable = True"
      ],
      "execution_count": 0,
      "outputs": []
    },
    {
      "cell_type": "code",
      "metadata": {
        "id": "O6udvPqHynlG",
        "colab_type": "code",
        "outputId": "58ba218b-3c44-4e0a-d5a4-39affce8f006",
        "colab": {
          "base_uri": "https://localhost:8080/",
          "height": 35
        }
      },
      "source": [
        "# Let's take a look to see how many layers are in the base model\n",
        "print(\"Number of layers in the base model: \", len(base_model.layers))\n",
        "\n",
        "# Fine tune from this layer onwards\n",
        "fine_tune_at = 100\n",
        "\n",
        "# Freeze all the layers before the `fine_tune_at` layer\n",
        "for layer in base_model.layers[:fine_tune_at]:\n",
        "  layer.trainable =  False"
      ],
      "execution_count": 0,
      "outputs": [
        {
          "output_type": "stream",
          "text": [
            "Number of layers in the base model:  155\n"
          ],
          "name": "stdout"
        }
      ]
    },
    {
      "cell_type": "markdown",
      "metadata": {
        "id": "BgdDlwthB46w",
        "colab_type": "text"
      },
      "source": [
        "## Compile the model\n",
        "Compile the model using a much lower training rate."
      ]
    },
    {
      "cell_type": "code",
      "metadata": {
        "id": "2m9ObuWuyvZw",
        "colab_type": "code",
        "colab": {}
      },
      "source": [
        "model.compile(loss='binary_crossentropy',\n",
        "              optimizer = tf.keras.optimizers.Adam(1e-5),\n",
        "              metrics=['accuracy'])"
      ],
      "execution_count": 0,
      "outputs": []
    },
    {
      "cell_type": "code",
      "metadata": {
        "id": "8Jaf5hbSywIC",
        "colab_type": "code",
        "outputId": "7b3c1ab0-6ae3-4fc3-f1f3-67860afc17b1",
        "colab": {
          "base_uri": "https://localhost:8080/",
          "height": 572
        }
      },
      "source": [
        "model.summary()"
      ],
      "execution_count": 0,
      "outputs": [
        {
          "output_type": "stream",
          "text": [
            "Model: \"sequential\"\n",
            "_________________________________________________________________\n",
            "Layer (type)                 Output Shape              Param #   \n",
            "=================================================================\n",
            "mobilenetv2_1.00_224 (Model) (None, 7, 7, 1280)        2257984   \n",
            "_________________________________________________________________\n",
            "conv2d (Conv2D)              (None, 7, 7, 16)          184336    \n",
            "_________________________________________________________________\n",
            "max_pooling2d (MaxPooling2D) (None, 3, 3, 16)          0         \n",
            "_________________________________________________________________\n",
            "dropout (Dropout)            (None, 3, 3, 16)          0         \n",
            "_________________________________________________________________\n",
            "conv2d_1 (Conv2D)            (None, 3, 3, 32)          4640      \n",
            "_________________________________________________________________\n",
            "max_pooling2d_1 (MaxPooling2 (None, 1, 1, 32)          0         \n",
            "_________________________________________________________________\n",
            "conv2d_2 (Conv2D)            (None, 1, 1, 64)          18496     \n",
            "_________________________________________________________________\n",
            "global_average_pooling2d (Gl (None, 64)                0         \n",
            "_________________________________________________________________\n",
            "dropout_1 (Dropout)          (None, 64)                0         \n",
            "_________________________________________________________________\n",
            "flatten (Flatten)            (None, 64)                0         \n",
            "_________________________________________________________________\n",
            "dense (Dense)                (None, 512)               33280     \n",
            "_________________________________________________________________\n",
            "dense_1 (Dense)              (None, 2)                 1026      \n",
            "=================================================================\n",
            "Total params: 2,499,762\n",
            "Trainable params: 2,104,370\n",
            "Non-trainable params: 395,392\n",
            "_________________________________________________________________\n"
          ],
          "name": "stdout"
        }
      ]
    },
    {
      "cell_type": "code",
      "metadata": {
        "id": "kOZxFjDRyzJ0",
        "colab_type": "code",
        "outputId": "59bd6f96-c013-4d2e-f1fe-a0b0156d7e66",
        "colab": {
          "base_uri": "https://localhost:8080/",
          "height": 35
        }
      },
      "source": [
        "print('Number of trainable variables = {}'.format(len(model.trainable_variables)))"
      ],
      "execution_count": 0,
      "outputs": [
        {
          "output_type": "stream",
          "text": [
            "Number of trainable variables = 66\n"
          ],
          "name": "stdout"
        }
      ]
    },
    {
      "cell_type": "markdown",
      "metadata": {
        "id": "6sb1CxcZCAAA",
        "colab_type": "text"
      },
      "source": [
        "## Continue Train the model"
      ]
    },
    {
      "cell_type": "code",
      "metadata": {
        "id": "863BoJYKy1kc",
        "colab_type": "code",
        "outputId": "c5ddb315-584e-4547-d241-7301eaab4c92",
        "colab": {
          "base_uri": "https://localhost:8080/",
          "height": 800
        }
      },
      "source": [
        "fine_tune_epochs =20\n",
        "total_epochs =  initial_epochs + fine_tune_epochs\n",
        "history_fine = model.fit_generator(train_generator, \n",
        "                    epochs=total_epochs,\n",
        "                    initial_epoch =  history.epoch[-1], \n",
        "                    validation_data=val_generator,\n",
        "                    steps_per_epoch=10)"
      ],
      "execution_count": 0,
      "outputs": [
        {
          "output_type": "stream",
          "text": [
            "Epoch 20/40\n",
            "10/10 [==============================] - ETA: 0s - loss: 0.8507 - accuracy: 0.7724"
          ],
          "name": "stdout"
        },
        {
          "output_type": "stream",
          "text": [
            "/usr/local/lib/python3.6/dist-packages/PIL/Image.py:932: UserWarning: Palette images with Transparency expressed in bytes should be converted to RGBA images\n",
            "  \"Palette images with Transparency expressed in bytes should be \"\n"
          ],
          "name": "stderr"
        },
        {
          "output_type": "stream",
          "text": [
            "\b\b\b\b\b\b\b\b\b\b\b\b\b\b\b\b\b\b\b\b\b\b\b\b\b\b\b\b\b\b\b\b\b\b\b\b\b\b\b\b\b\b\b\b\b\b\b\b\b\b\b\b\b\b\b\b\b\b\b\b\b\b\b\b\b\b\b\b\b\b\b\b\b\b\b\b\b\b\b\b\b\b\r10/10 [==============================] - 9s 880ms/step - loss: 0.8507 - accuracy: 0.7724 - val_loss: 0.4464 - val_accuracy: 0.8519\n",
            "Epoch 21/40\n",
            "10/10 [==============================] - 8s 814ms/step - loss: 0.7071 - accuracy: 0.7781 - val_loss: 0.3930 - val_accuracy: 0.8796\n",
            "Epoch 22/40\n",
            "10/10 [==============================] - 8s 807ms/step - loss: 0.5764 - accuracy: 0.8045 - val_loss: 0.3373 - val_accuracy: 0.9352\n",
            "Epoch 23/40\n",
            "10/10 [==============================] - 8s 813ms/step - loss: 0.5961 - accuracy: 0.8141 - val_loss: 0.4378 - val_accuracy: 0.8889\n",
            "Epoch 24/40\n",
            "10/10 [==============================] - 8s 781ms/step - loss: 0.3831 - accuracy: 0.8494 - val_loss: 0.4006 - val_accuracy: 0.9074\n",
            "Epoch 25/40\n",
            "10/10 [==============================] - 8s 783ms/step - loss: 0.3561 - accuracy: 0.8781 - val_loss: 0.4038 - val_accuracy: 0.8889\n",
            "Epoch 26/40\n",
            "10/10 [==============================] - 8s 811ms/step - loss: 0.3585 - accuracy: 0.8718 - val_loss: 0.4041 - val_accuracy: 0.8981\n",
            "Epoch 27/40\n",
            "10/10 [==============================] - 8s 806ms/step - loss: 0.3643 - accuracy: 0.8687 - val_loss: 0.3764 - val_accuracy: 0.9167\n",
            "Epoch 28/40\n",
            "10/10 [==============================] - 8s 768ms/step - loss: 0.3302 - accuracy: 0.8846 - val_loss: 0.4047 - val_accuracy: 0.9167\n",
            "Epoch 29/40\n",
            "10/10 [==============================] - 8s 815ms/step - loss: 0.2646 - accuracy: 0.9062 - val_loss: 0.3897 - val_accuracy: 0.9167\n",
            "Epoch 30/40\n",
            "10/10 [==============================] - 8s 811ms/step - loss: 0.2660 - accuracy: 0.8910 - val_loss: 0.3913 - val_accuracy: 0.8889\n",
            "Epoch 31/40\n",
            "10/10 [==============================] - 8s 771ms/step - loss: 0.3641 - accuracy: 0.8429 - val_loss: 0.3758 - val_accuracy: 0.9259\n",
            "Epoch 32/40\n",
            "10/10 [==============================] - 8s 787ms/step - loss: 0.1926 - accuracy: 0.9327 - val_loss: 0.4277 - val_accuracy: 0.9259\n",
            "Epoch 33/40\n",
            "10/10 [==============================] - 8s 791ms/step - loss: 0.2488 - accuracy: 0.8938 - val_loss: 0.3748 - val_accuracy: 0.8981\n",
            "Epoch 34/40\n",
            "10/10 [==============================] - 8s 790ms/step - loss: 0.1852 - accuracy: 0.9167 - val_loss: 0.4098 - val_accuracy: 0.9167\n",
            "Epoch 35/40\n",
            "10/10 [==============================] - 8s 753ms/step - loss: 0.2139 - accuracy: 0.9038 - val_loss: 0.3674 - val_accuracy: 0.9167\n",
            "Epoch 36/40\n",
            "10/10 [==============================] - 8s 760ms/step - loss: 0.1718 - accuracy: 0.9263 - val_loss: 0.3534 - val_accuracy: 0.8889\n",
            "Epoch 37/40\n",
            "10/10 [==============================] - 8s 768ms/step - loss: 0.2125 - accuracy: 0.9281 - val_loss: 0.4722 - val_accuracy: 0.8889\n",
            "Epoch 38/40\n",
            "10/10 [==============================] - 8s 760ms/step - loss: 0.2491 - accuracy: 0.8974 - val_loss: 0.3888 - val_accuracy: 0.9167\n",
            "Epoch 39/40\n",
            "10/10 [==============================] - 8s 773ms/step - loss: 0.1234 - accuracy: 0.9391 - val_loss: 0.3798 - val_accuracy: 0.9167\n",
            "Epoch 40/40\n",
            "10/10 [==============================] - 8s 798ms/step - loss: 0.1948 - accuracy: 0.9250 - val_loss: 0.4036 - val_accuracy: 0.8981\n"
          ],
          "name": "stdout"
        }
      ]
    },
    {
      "cell_type": "markdown",
      "metadata": {
        "id": "_7wb2gDKCFh5",
        "colab_type": "text"
      },
      "source": [
        "Let's take a look at the learning curves of the training and validation accuracy/loss, when fine tuning the last few layers of the MobileNet V2 base model and training the classifier on top of it. The validation loss is much higher than the training loss, so you may get some overfitting.\n",
        "\n",
        "You may also get some overfitting as the new training set is relatively small and similar to the original MobileNet V2 datasets."
      ]
    },
    {
      "cell_type": "code",
      "metadata": {
        "id": "VF4qHoOVFs6L",
        "colab_type": "code",
        "outputId": "3b4132c3-edbb-4781-c7ad-1553aa7166cd",
        "colab": {
          "base_uri": "https://localhost:8080/",
          "height": 513
        }
      },
      "source": [
        "acc = history_fine.history['accuracy']\n",
        "val_acc = history_fine.history['val_accuracy']\n",
        "\n",
        "loss = history_fine.history['loss']\n",
        "val_loss = history_fine.history['val_loss']\n",
        "\n",
        "plt.figure(figsize=(8, 8))\n",
        "plt.subplot(2, 1, 1)\n",
        "plt.plot(acc, label='Training Accuracy')\n",
        "plt.plot(val_acc, label='Validation Accuracy')\n",
        "plt.legend(loc='lower right')\n",
        "plt.ylabel('Accuracy')\n",
        "plt.ylim([min(plt.ylim()),1])\n",
        "plt.title('Training and Validation Accuracy')\n",
        "\n",
        "plt.subplot(2, 1, 2)\n",
        "plt.plot(loss, label='Training Loss')\n",
        "plt.plot(val_loss, label='Validation Loss')\n",
        "plt.legend(loc='upper right')\n",
        "plt.ylabel('Cross Entropy')\n",
        "plt.ylim([0,1.0])\n",
        "plt.title('Training and Validation Loss')\n",
        "plt.xlabel('epoch')\n",
        "plt.show()"
      ],
      "execution_count": 0,
      "outputs": [
        {
          "output_type": "display_data",
          "data": {
            "image/png": "[encoded data removed]",
            "text/plain": [
              "<Figure size 576x576 with 2 Axes>"
            ]
          },
          "metadata": {
            "tags": [],
            "needs_background": "light"
          }
        }
      ]
    },
    {
      "cell_type": "markdown",
      "metadata": {
        "id": "hSzRsol3CMqV",
        "colab_type": "text"
      },
      "source": [
        "## Convert to TFLite\n",
        "Saved the model using tf.saved_model.save and then convert the saved model to a tf lite compatible format."
      ]
    },
    {
      "cell_type": "code",
      "metadata": {
        "id": "wJmFb6WBHl_G",
        "colab_type": "code",
        "outputId": "1c2d7382-69ea-42a1-9999-dbd14a078c5d",
        "colab": {
          "base_uri": "https://localhost:8080/",
          "height": 107
        }
      },
      "source": [
        "saved_model_dir = 'save/fine_tuning'\n",
        "tf.saved_model.save(model, saved_model_dir)\n",
        "\n",
        "converter = tf.lite.TFLiteConverter.from_saved_model(saved_model_dir)\n",
        "converter.target_ops = [tf.lite.OpsSet.TFLITE_BUILTINS, tf.lite.OpsSet.SELECT_TF_OPS]\n",
        "tflite_model = converter.convert()\n",
        "\n",
        "\n",
        "\n",
        "with open('model.tflite', 'wb') as f:\n",
        "  f.write(tflite_model)"
      ],
      "execution_count": 0,
      "outputs": [
        {
          "output_type": "stream",
          "text": [
            "WARNING:tensorflow:From /usr/local/lib/python3.6/dist-packages/tensorflow/python/ops/resource_variable_ops.py:1817: calling BaseResourceVariable.__init__ (from tensorflow.python.ops.resource_variable_ops) with constraint is deprecated and will be removed in a future version.\n",
            "Instructions for updating:\n",
            "If using Keras pass *_constraint arguments to layers.\n",
            "INFO:tensorflow:Assets written to: save/fine_tuning/assets\n"
          ],
          "name": "stdout"
        }
      ]
    },
    {
      "cell_type": "markdown",
      "metadata": {
        "id": "CS89S3g5CS29",
        "colab_type": "text"
      },
      "source": [
        "Download the converted model and labels"
      ]
    },
    {
      "cell_type": "code",
      "metadata": {
        "id": "zRcILGsbOQ2K",
        "colab_type": "code",
        "colab": {}
      },
      "source": [
        "from google.colab import files\n",
        "\n",
        "files.download('model.tflite')\n",
        "files.download('labels.txt')"
      ],
      "execution_count": 0,
      "outputs": []
    }
  ]
}